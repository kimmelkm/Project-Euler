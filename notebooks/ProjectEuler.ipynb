{
 "cells": [
  {
   "cell_type": "code",
   "execution_count": 19,
   "id": "27c5c3f0-6418-462d-8383-bc306f85463d",
   "metadata": {},
   "outputs": [
    {
     "name": "stdout",
     "output_type": "stream",
     "text": [
      "233168\n"
     ]
    }
   ],
   "source": [
    "# Project #1: Multiples of 3 or 5\n",
    "# Completed on Fri, 28 Feb 2025\n",
    "import math\n",
    "import numpy as np\n",
    "M = 999\n",
    "a = 5\n",
    "b = 3\n",
    "\n",
    "A = math.floor(M/a)\n",
    "B = math.floor(M/b)\n",
    "\n",
    "N1 = np.arange(1, A + 1)*a\n",
    "N2 = np.arange(1, B + 1)*b\n",
    "N3 = np.concatenate((N1, N2))\n",
    "N4 = set(N3)\n",
    "\n",
    "ANS = sum(N4)\n",
    "\n",
    "print(ANS)"
   ]
  },
  {
   "cell_type": "code",
   "execution_count": 21,
   "id": "18d383a9-fd1a-4ae0-b724-2f4272d1ce7d",
   "metadata": {},
   "outputs": [
    {
     "name": "stdout",
     "output_type": "stream",
     "text": [
      "4613732\n"
     ]
    }
   ],
   "source": [
    "# Project #2: Even Fibonacci Numbers\n",
    "# Completed on Sun, 2 Mar 2025\n",
    "num1 = 0\n",
    "num2 = 1\n",
    "num3 = 1\n",
    "ANS = 0;\n",
    "\n",
    "while num3 <= 4e6:\n",
    "    #print(num3, end=\" \")\n",
    "    if num3%2 == 0:\n",
    "        #print(num3, end=\" \")\n",
    "        ANS += num3\n",
    "    num3 = num1 + num2\n",
    "    num1, num2 = num2, num3\n",
    "    \n",
    "#print()\n",
    "print(ANS)"
   ]
  },
  {
   "cell_type": "code",
   "execution_count": 21,
   "id": "80ea4b8a-0cdd-462f-87d2-1c9ac74a9562",
   "metadata": {},
   "outputs": [
    {
     "name": "stdout",
     "output_type": "stream",
     "text": [
      "6857\n"
     ]
    }
   ],
   "source": [
    "# Project #3: Largest Prime Factor\n",
    "# Completed on Mon, 3 Mar 2025\n",
    "import math\n",
    "num1 = 600851475143\n",
    "#num1 = 13195\n",
    "ANS = 0;\n",
    "\n",
    "\n",
    "for num in range(2,int(math.sqrt(num1))+1):\n",
    "    if all(num%i!=0 for i in range(2,int(math.sqrt(num))+1)):\n",
    "        if num1%num == 0:\n",
    "            ANS = num\n",
    "            #print (num)\n",
    "\n",
    "print(ANS)"
   ]
  },
  {
   "cell_type": "code",
   "execution_count": null,
   "id": "304b882a-4463-41e6-83b2-8519403e31d2",
   "metadata": {},
   "outputs": [],
   "source": []
  }
 ],
 "metadata": {
  "kernelspec": {
   "display_name": "Python 3 (ipykernel)",
   "language": "python",
   "name": "python3"
  },
  "language_info": {
   "codemirror_mode": {
    "name": "ipython",
    "version": 3
   },
   "file_extension": ".py",
   "mimetype": "text/x-python",
   "name": "python",
   "nbconvert_exporter": "python",
   "pygments_lexer": "ipython3",
   "version": "3.10.16"
  }
 },
 "nbformat": 4,
 "nbformat_minor": 5
}
